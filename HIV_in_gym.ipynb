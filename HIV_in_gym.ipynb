{
 "cells": [
  {
   "cell_type": "code",
   "execution_count": 4,
   "id": "ec348207",
   "metadata": {},
   "outputs": [
    {
     "name": "stdout",
     "output_type": "stream",
     "text": [
      "Requirement already satisfied: gym in /Users/Albina/opt/anaconda3/lib/python3.9/site-packages (0.26.2)\n",
      "Requirement already satisfied: importlib-metadata>=4.8.0 in /Users/Albina/opt/anaconda3/lib/python3.9/site-packages (from gym) (4.11.3)\n",
      "Requirement already satisfied: cloudpickle>=1.2.0 in /Users/Albina/opt/anaconda3/lib/python3.9/site-packages (from gym) (2.0.0)\n",
      "Requirement already satisfied: numpy>=1.18.0 in /Users/Albina/opt/anaconda3/lib/python3.9/site-packages (from gym) (1.21.5)\n",
      "Requirement already satisfied: gym-notices>=0.0.4 in /Users/Albina/opt/anaconda3/lib/python3.9/site-packages (from gym) (0.0.8)\n",
      "Requirement already satisfied: zipp>=0.5 in /Users/Albina/opt/anaconda3/lib/python3.9/site-packages (from importlib-metadata>=4.8.0->gym) (3.8.0)\n",
      "Note: you may need to restart the kernel to use updated packages.\n"
     ]
    }
   ],
   "source": [
    "pip install gym"
   ]
  },
  {
   "cell_type": "code",
   "execution_count": 5,
   "id": "0b7df91b",
   "metadata": {},
   "outputs": [
    {
     "name": "stdout",
     "output_type": "stream",
     "text": [
      "Collecting opencv-python\n",
      "  Downloading opencv_python-4.6.0.66-cp36-abi3-macosx_10_15_x86_64.whl (46.4 MB)\n",
      "\u001b[2K     \u001b[90m━━━━━━━━━━━━━━━━━━━━━━━━━━━━━━━━━━━━━━━━\u001b[0m \u001b[32m46.4/46.4 MB\u001b[0m \u001b[31m7.0 MB/s\u001b[0m eta \u001b[36m0:00:00\u001b[0m00:01\u001b[0m00:01\u001b[0m\n",
      "\u001b[?25hRequirement already satisfied: numpy>=1.19.3 in /Users/Albina/opt/anaconda3/lib/python3.9/site-packages (from opencv-python) (1.21.5)\n",
      "Installing collected packages: opencv-python\n",
      "Successfully installed opencv-python-4.6.0.66\n",
      "Requirement already satisfied: pillow in /Users/Albina/opt/anaconda3/lib/python3.9/site-packages (9.2.0)\n"
     ]
    }
   ],
   "source": [
    "!pip install opencv-python \n",
    "!pip install pillow"
   ]
  },
  {
   "cell_type": "code",
   "execution_count": 17,
   "id": "4cc14238",
   "metadata": {},
   "outputs": [
    {
     "name": "stdout",
     "output_type": "stream",
     "text": [
      "Collecting jdc\n",
      "  Downloading jdc-0.0.9-py2.py3-none-any.whl (2.1 kB)\n",
      "Installing collected packages: jdc\n",
      "Successfully installed jdc-0.0.9\n",
      "Note: you may need to restart the kernel to use updated packages.\n"
     ]
    }
   ],
   "source": [
    "pip install jdc"
   ]
  },
  {
   "cell_type": "code",
   "execution_count": 8,
   "id": "b4a54558",
   "metadata": {},
   "outputs": [],
   "source": [
    "import numpy as np \n",
    "import cv2 \n",
    "import matplotlib.pyplot as plt\n",
    "import PIL.Image as Image\n",
    "import gym\n",
    "import random\n",
    "import math\n",
    "import jdc\n",
    "from scipy.integrate import solve_ivp\n",
    "\n",
    "\n",
    "from gym import Env, spaces\n",
    "import time\n",
    "\n",
    "font = cv2.FONT_HERSHEY_COMPLEX_SMALL "
   ]
  },
  {
   "cell_type": "markdown",
   "id": "3cd9b282",
   "metadata": {},
   "source": [
    "Пространство действий размерности 4:\n",
    "1. Дать таблетку 1 вида\n",
    "2. Дать таблетку 2 вида\n",
    "3. Дать обе таблетки\n",
    "4. Не давать таблетки\n",
    "\n",
    "Пространство состояний размерности 7:  \n",
    "$T \\in (200, 800]$,  \n",
    "$T_s \\in (0, 500]$,   \n",
    "$T_r \\in (0, 500]$, (???)   \n",
    "$V \\in (0, 1000]$    \n",
    "$V_s \\in (0, 1000]$    \n",
    "$V_r \\in (0, 1000]$  \n",
    "Область значений $\\eta_1$ и $\\eta_2$ состоит из 3500 значений для каждой функции, т.к. параметр $t$ может принимать не более 3500 значений _(посчитать для high и low значения)_   \n",
    "$800 * 500^2 * 1000^3 * 4 * 3500^2 = 9,8*10^{23}$\n",
    "\n",
    "За каждую следующую итерацию присваивается награда +1"
   ]
  },
  {
   "cell_type": "markdown",
   "id": "92b32127",
   "metadata": {},
   "source": [
    "Функция `reset` должна возвращать нас к следующему состоянию:  \n",
    "$T(0) = 600  ед/мм^3$  \n",
    "$T_s(0) = 0  ед/мм^3$  \n",
    "$T_r(0) = 0  ед/мм^3$  \n",
    "$V_s(0) = 10  ед/мм^3$  \n",
    "$V_r(0) = 0  ед/мм^3$"
   ]
  },
  {
   "cell_type": "markdown",
   "id": "addc1707",
   "metadata": {},
   "source": [
    "Пусть состояние `done` наступает, если $T <= 200$ - проигрыш или $t = 3500$ - выигрыш"
   ]
  },
  {
   "cell_type": "code",
   "execution_count": 16,
   "id": "6f34c997",
   "metadata": {},
   "outputs": [],
   "source": [
    "def eta1_func(t):\n",
    "    return math.exp(- 0.5 * (t - 0))\n",
    "\n",
    "def eta2_func(t):\n",
    "    return max(math.exp(- 0.025 * (t - 0)), 0.15)"
   ]
  },
  {
   "cell_type": "code",
   "execution_count": 17,
   "id": "866fa6f6",
   "metadata": {},
   "outputs": [],
   "source": [
    "#constants\n",
    "muT = 0.005\n",
    "muTi = 0.25\n",
    "kS = 0.0005\n",
    "kr = 0.0005\n",
    "kV = 0.0062\n",
    "lambda1 = 0.025\n",
    "lambda2 = 0.25\n",
    "lambda3 = 0.8\n",
    "Gs = 41.2\n",
    "Gr = 41.2\n",
    "V0 = 0.5\n",
    "q = 1e-7\n",
    "C = 47.0\n",
    "C_i = 47.0\n",
    "B = 2.0\n",
    "Bs = 13.8\n",
    "S1 = 4.0\n",
    "S2 = 2.8\n",
    "c1 = 0.5\n",
    "c2 = 0.025\n",
    "c3 = 0.15"
   ]
  },
  {
   "cell_type": "code",
   "execution_count": 51,
   "id": "1a9c924f",
   "metadata": {},
   "outputs": [],
   "source": [
    "def treatment_HIV(t, y, u1_a, u2_a):\n",
    "    \n",
    "    time = np.linspace(0, 3500)\n",
    "    delta = time[1] - time[0]\n",
    "    \n",
    "    T, Ts, Tr, Vs, Vr, nu1, nu2 = y\n",
    "    i = int(t // delta)\n",
    "\n",
    "    V = Vs + Vr \n",
    "    u1 = u1_a[i]\n",
    "    u2 = u2_a[i]\n",
    "    S = S1 - S2 * V / (Bs + V)\n",
    "    lam1 = lambda1 / (C + V)\n",
    "    lam2 = lambda2 / (C_i + V)\n",
    "    lam3 = lambda3 / (C_i + V)\n",
    "    G = Gs * Vs / (B + V)\n",
    "    if V < V0:\n",
    "        Grv = 0\n",
    "    else:\n",
    "        Grv = Gs\n",
    "   \n",
    "    #система дифф уравнений описыващая динамику развития заболевания\n",
    "    dTdt = S - muT * T + lam1 * T * V - (nu1 * kS * Vs + kr * Vr)*T\n",
    "    dTsdt = nu1 * kS * Vs - muTi * Ts - lam2 * Ts * V\n",
    "    dTrdt = kr * Vr * T - muTi * Tr - lam2 * Tr * V\n",
    "    dVsdt = (1 - q) * lam3 * Ts * V - kV * T * Vs + nu2 * G\n",
    "    dVrdt = lam3 * Tr * V + q * lam3 * Ts * V - kV * T * Vr + Grv * Vr / (B + V)\n",
    "    dnu1dt = c1 * (1 -  nu1 - u1)\n",
    "    dnu2dt = c2 * (1 - nu2 + u2 * (c3 - 1)) / (1 - c3)\n",
    "    \n",
    "    return np.array([dTdt, dTsdt, dTrdt, dVsdt, dVrdt, dnu1dt, dnu2dt])\n"
   ]
  },
  {
   "cell_type": "code",
   "execution_count": 52,
   "id": "c72c26c4",
   "metadata": {},
   "outputs": [],
   "source": [
    "class HIV(Env):\n",
    "    def __init__(self):\n",
    "        super(HIV, self).__init__()\n",
    "        \n",
    "\n",
    "        \n",
    "        # Define a 3-D observation space: T, V\n",
    "        self.observation_shape = (600, 1000) \n",
    "        self.observation_space = spaces.Box(low = np.zeros(self.observation_shape), \n",
    "                                            high = np.ones(self.observation_shape),\n",
    "                                            dtype = np.float16)\n",
    "    \n",
    "        \n",
    "        # Define an action space ranging from 0 to 3\n",
    "        self.action_space = spaces.Discrete(3,)\n",
    "                        \n",
    "        # Create a canvas to render the environment images upon \n",
    "        #self.canvas = np.ones(self.observation_shape) * 1\n",
    "        \n",
    "        # Define elements present inside the environment\n",
    "        self.elements = []\n",
    "        \n",
    "        # Minimum parameters human can take \n",
    "        self.min_T = 200\n",
    "\n",
    "        # Permissible area of parameters will be \n",
    "        \n"
   ]
  },
  {
   "cell_type": "code",
   "execution_count": 96,
   "id": "6fd3ff77",
   "metadata": {},
   "outputs": [],
   "source": [
    "class Human(object):\n",
    "    def __init__(self, name):\n",
    "        self.init = np.array([600, 0, 0, 10, 0, 1, 1])\n",
    "        self.name = name\n",
    "        \n",
    "        self.T_min = 200\n",
    "        self.Ts_min = 0\n",
    "        self.Tr_min = 0\n",
    "        self.V_min = 0\n",
    "        self.Vr_min = 0\n",
    "        self.Vs_min = 0\n",
    "        self.eta1_min = 9.65 * 10**(-761) # exp(-0.5 * (3500 - 0))\n",
    "        self.eta2_min = 0.15 # max{exp(-0.025 * (3500 - 0)), 0.15}\n",
    "        \n",
    "        \n",
    "        self.T_max = 800\n",
    "        self.Ts_max = 500\n",
    "        self.Tr_max = 500\n",
    "        self.V_max = 1000\n",
    "        self.Vr_max = 1000\n",
    "        self.Vs_max = 1000\n",
    "        self.eta1_max = 1\n",
    "        self.eta2_max = 1\n",
    "        \n",
    "        self.values = np.zeros((10, 3500)) # t, T, Tr, Ts, Vr, Vs, eta1, eta2, u1, u2\n",
    "        self.values[0] = np.array([i for i in range(3500)])\n",
    "        \n",
    "        self.values[1][0] = 600\n",
    "        self.values[2][0] = 0\n",
    "        self.values[3][0] = 0\n",
    "        self.values[4][0] = 10\n",
    "        self.values[5][0] = 0\n",
    "        self.values[6][0] = 1\n",
    "        self.values[7][0] = 1\n",
    "        \n",
    "    \n",
    "    def set_position(self, t, T, Ts, Tr, Vs, Vr, eta1, eta2):\n",
    "        self.values[1][t] = self.clamp(T, self.T_min, self.T_max)\n",
    "        self.values[2][t] = self.clamp(Tr, self.Tr_min, self.Tr_max)\n",
    "        self.values[3][t] = self.clamp(Ts, self.Ts_min, self.Ts_max)\n",
    "        self.values[4][t] = self.clamp(Vs, self.Vs_min, self.Vs_max)\n",
    "        self.values[5][t] = self.clamp(Vr, self.Vr_min, self.Vr_max)\n",
    "        self.values[6][t] = self.clamp(eta1, self.eta1_min, self.eta1_max)\n",
    "        self.values[7][t] = self.clamp(eta2, self.eta2_min, self.eta2_max)\n",
    "    \n",
    "    def get_position(self, t):\n",
    "        position = [self.values[i][t] for i in range(1, 8)]\n",
    "        return position\n",
    "    \n",
    "    def move(self, t, u1, u2):\n",
    "        time = np.linspace(0, 3500)\n",
    "        delta = time[1] - time[0]\n",
    "        \n",
    "        self.values[8][t], self.values[9][t] = u1, u2\n",
    "        u1_array, u2_array = self.values[8], self.values[9]\n",
    "        \n",
    "        solution = solve_ivp(lambda t, y : treatment_HIV(t, y, u1_array, u2_array), (0, 3500), self.init, t_eval=time)\n",
    "        \n",
    "        for i in range(1, 8):\n",
    "            self.values[i][t] = solution.y[i-1][t]\n",
    "\n",
    "\n",
    "    def clamp(self, n, minn, maxn):\n",
    "        return min(max(n, minn), maxn)\n",
    "    \n",
    "    def get_plot_cells(self, t):\n",
    "        fig, ax = plt.subplots(figsize=(8, 6))\n",
    "        fig.set_facecolor('white')\n",
    "\n",
    "        plt.plot(self.values[0][:t], self.values[1][:t], '^-', label='T-cells')\n",
    "        plt.plot(self.values[0][:t], self.values[4][:t], 'o-', label='sensitive virus $V_s$')\n",
    "        plt.plot(self.values[0][:t], self.values[5][:t], '+-', label='resistant virus $V_r$')\n",
    "\n",
    "        plt.ylabel('$T, V, units/cu. mm$')\n",
    "        plt.xlabel('$Time, days$')\n",
    "        plt.suptitle('HIV-infection dynamics')\n",
    "        plt.legend()\n",
    "        plt.ylim(0,700)\n",
    "        plt.grid(True)\n",
    "\n",
    "\n",
    "        plt.show()"
   ]
  },
  {
   "cell_type": "code",
   "execution_count": 77,
   "id": "9491ad03",
   "metadata": {},
   "outputs": [],
   "source": [
    "%%add_to HIV\n",
    "\n",
    "def reset(self):\n",
    "\n",
    "    # Reset the reward\n",
    "    self.ep_return  = 0\n",
    "\n",
    "    \n",
    "    # Intialise \n",
    "    self.human = Human(\"first\")\n",
    "    \n",
    "    # Intialise the elements \n",
    "    self.elements = self.human\n",
    "\n",
    "#     # Reset the Canvas \n",
    "#     self.canvas = np.ones(self.observation_shape) * 1\n",
    "\n",
    "#     # Draw elements on the canvas\n",
    "#     self.draw_elements_on_canvas()\n",
    "\n",
    "\n",
    "    return self.human.get_position(0)"
   ]
  },
  {
   "cell_type": "code",
   "execution_count": 107,
   "id": "dc0e85ef",
   "metadata": {},
   "outputs": [
    {
     "data": {
      "text/plain": [
       "[600.0, 0.0, 0.0, 10.0, 0.0, 1.0, 1.0]"
      ]
     },
     "execution_count": 107,
     "metadata": {},
     "output_type": "execute_result"
    }
   ],
   "source": [
    "env = HIV()\n",
    "obs = env.reset()\n",
    "obs"
   ]
  },
  {
   "cell_type": "code",
   "execution_count": 103,
   "id": "f384eb40",
   "metadata": {},
   "outputs": [],
   "source": [
    "%%add_to HIV\n",
    "\n",
    "def render(self, t = 3500, mode = \"human\"):\n",
    "    assert mode in [\"human\", \"rgb_array\"], \"Invalid mode, must be either \\\"human\\\" or \\\"rgb_array\\\"\"\n",
    "    if mode == \"human\":\n",
    "        return self.human.get_plot_cells(t)\n",
    "    \n",
    "    elif mode == \"rgb_array\":\n",
    "        return self.human.values\n",
    "\n",
    "# ГРАФИКИ"
   ]
  },
  {
   "cell_type": "code",
   "execution_count": 104,
   "id": "1b7eb734",
   "metadata": {},
   "outputs": [],
   "source": [
    "%%add_to HIV\n",
    "\n",
    "def get_action_meanings(self):\n",
    "    return {0: \"Nothing\", 1: \"Get 1st pill\", 2: \"Get 2nd pill\", 3: \"Get both\"}\n"
   ]
  },
  {
   "cell_type": "code",
   "execution_count": 105,
   "id": "0ada053c",
   "metadata": {},
   "outputs": [],
   "source": [
    "%%add_to HIV\n",
    "\n",
    "def step(self, action, t):\n",
    "    # Flag that marks the termination of an episode\n",
    "    done = False\n",
    "    \n",
    "    # Assert that it is a valid action \n",
    "    assert self.action_space.contains(action), \"Invalid Action\"\n",
    "    \n",
    "    # Reward for executing a step.\n",
    "    reward = 1      \n",
    "\n",
    "    # apply the action to the chopper\n",
    "    if action == 0:\n",
    "        self.human.move(t, 0, 0)\n",
    "    elif action == 1:\n",
    "        self.human.move(t, 1, 0)\n",
    "    elif action == 2:\n",
    "        self.human.move(t, 0, 1)\n",
    "    elif action == 3:\n",
    "        self.human.move(t, 1, 1)\n",
    "\n",
    "\n",
    "    \n",
    "    # Increment the episodic return\n",
    "    self.ep_return += 1\n",
    "\n",
    "\n",
    "    # If out of fuel, end the episode.\n",
    "    if self.human.values[1][t] <= 200:\n",
    "        done = True\n",
    "\n",
    "    return [self.human.values[i][t] for i in range(1, 8)], reward, done, []"
   ]
  },
  {
   "cell_type": "code",
   "execution_count": 110,
   "id": "1dfff982",
   "metadata": {},
   "outputs": [
    {
     "data": {
      "image/png": "[encoded data removed]",
      "text/plain": [
       "<Figure size 800x600 with 1 Axes>"
      ]
     },
     "metadata": {},
     "output_type": "display_data"
    }
   ],
   "source": [
    "env.render(t=42, mode=\"human\")"
   ]
  },
  {
   "cell_type": "code",
   "execution_count": 109,
   "id": "9aef457f",
   "metadata": {},
   "outputs": [
    {
     "name": "stdout",
     "output_type": "stream",
     "text": [
      "[600.0, 0.0, 0.0, 10.0, 0.0, 1.0, 1.0] 1 False []\n",
      "[573.5996854438343, 0.016357176174385934, 1.1259144300358864e-06, 9.577108611119046, 1.5356631529647425e-06, 1.0, 0.9986002570006426] 2 False []\n",
      "[553.1738062458334, 1.6521728087284842e-09, 9.827194920406646, 1.041843718477781e-10, 10.519246084467978, 1.0, 0.2539239843137354] 3 False []\n",
      "[529.6752219593579, 1.0430733149208696e-18, 9.860279331741381, 9.186082058422371e-19, 11.070244755318893, 1.0, 0.9084972551125724] 4 False []\n",
      "[509.48060525805005, 1.5787328932821542e-27, 9.880827373849796, 2.4690557951767267e-25, 11.6344799087424, 1.0, 0.987363397667278] 5 False []\n",
      "[491.93057755696896, 1.1997577848819441e-36, 9.901490206850541, 9.895823359412227e-38, 12.10334711381451, 1.0, 0.2526510901257004] 6 False []\n",
      "[476.5287025980986, 5.182055099006206e-46, 9.912416659149747, 6.277086655073004e-46, 12.59863778098523, 0.9311481900129839, 0.9083257527295517] 7 False []\n",
      "[462.8797030473118, 1.984905347233331e-55, 9.921220519750893, 2.1353014843989298e-52, 13.054113761826995, 0.011745422591060017, 0.9881785563191335] 8 False []\n",
      "[450.6755789181119, 3.01940841415196e-64, 9.928037148045924, 2.9573921470883687e-65, 13.479873377235688, 0.9999999999999997, 0.2525821018392885] 9 False []\n",
      "[439.6706998632603, 9.703555924775572e-74, 9.933371672460856, -7.73281038415956e-72, 13.878794457389159, 0.9999999999999999, 0.16255128606285063] 10 False []\n",
      "[429.6680750200325, 1.6263386308921381e-75, 9.936732830468953, -6.751763069643606e-72, 14.263423842418062, 0.9999999999999999, 0.15153569461933125] 11 False []\n",
      "[420.50695305932805, 4.945304792780968e-75, 9.938498468805177, -1.5746141346362573e-71, 14.63529699893136, 1.0131886597011468, 0.14945270508772254] 12 False []\n",
      "[412.0552245499696, -3.473658288038955e-86, 9.93918923699334, -5.375594549653121e-86, 14.994195543282176, 3.7014379515391765e-16, 0.8954571501401722] 13 False []\n",
      "[404.20424094420787, -7.859966345849708e-96, 9.937511506060446, -2.0174622260163534e-92, 15.357522149330325, 3.6411735915513884e-17, 0.9872088094224869] 14 False []\n",
      "[396.85843815681824, -2.7228284227708674e-105, 9.939688111259063, -9.442955437259222e-97, 15.662315370193786, 0.00017799561829391817, 0.9984349522075283] 15 False []\n",
      "[389.9439787893692, -2.8310270001945795e-103, 9.939650149000464, -1.0609192802286693e-100, 15.976421997110906, 0.9999999999999997, 0.9998085108201727] 16 False []\n",
      "[383.3932778505848, -3.6437460210898893e-107, 9.938914982993163, -1.3809880806142386e-104, 16.28617221923086, 0.9999999999999999, 1.000957218902961] 17 False []\n",
      "[377.1483494170493, -2.220258117131906e-116, 9.938036466366666, -3.1970631586784944e-117, 16.58810509629374, 0.9999999999999999, 0.25558168997764635] 18 False []\n",
      "[371.16143818497056, -3.6682483331294856e-126, 9.932528058703838, -1.0730768789306452e-125, 16.932140836948648, 0.9999999999999999, 0.9075405588313139] 19 False []\n",
      "[365.3847561139798, -5.6330524054123365e-136, 9.92665400063468, -8.415716781037594e-137, 17.274813842789037, 0.9999999999999999, 0.2427610736828245] 20 False []\n",
      "[359.7729497886931, -8.02684530505379e-146, 9.927415966983178, -1.791000620704609e-146, 17.54269509085179, 1.0217779958520108, 0.16009063138743876] 21 False []\n",
      "[354.29813306669206, -1.0582449042494609e-155, 9.91995116440181, -2.853474482715901e-155, 17.89695336905073, 3.8317260080867093e-16, 0.896270921789915] 22 False []\n",
      "[348.91473046892054, -1.2336824987741982e-165, 9.920133152280423, -2.2437906381033684e-161, 18.169293647292836, -0.021549184213721324, 0.9885998044736765] 23 False []\n",
      "[343.59950236851785, -1.4875781446501028e-173, 9.91192826739006, -2.587018571974473e-174, 18.533340348680586, 0.9999999999999996, 0.2534622135011628] 24 False []\n",
      "[338.312569870338, -1.6472331190596077e-183, 9.90561087284353, 1.0154146650038828e-182, 18.88096073402883, 1.0, 0.1626589708663722] 25 False []\n",
      "[333.0180514769268, 4.133084768739895e-190, 9.90510419248557, -4.368677845894591e-187, 19.17233711678273, 0.9373821482708656, 0.15472718180786896] 26 False []\n",
      "[327.6898155254558, 2.2706908348504315e-199, 9.89802853112727, 8.433868900839901e-199, 19.5421179434659, 3.1745326348979883e-16, 0.8965741664604056] 27 False []\n",
      "[322.2855555353549, 2.038982906232095e-209, 9.893466636846247, 1.0530733003021836e-204, 19.89587697037424, 3.995679045312889e-18, 0.987345480352673] 28 False []\n",
      "[316.7713293877262, 1.986250986889442e-216, 9.883272222726752, 1.173835506435394e-208, 20.323625222746042, 0.00034192932608182066, 0.9984342037025771] 29 False []\n",
      "[311.0998125284593, 6.835981063384754e-221, 9.872613895270925, 1.4689343525100894e-221, 20.773956595071397, 0.9999999999999997, 0.25398597494781117] 30 False []\n",
      "[305.2175940420747, 4.926438897255249e-231, 9.866369539691956, -2.9196138354390904e-231, 21.19939534597125, 1.0, 0.1627230549490246] 31 False []\n",
      "[299.0729146128863, -3.5123998312191726e-238, 9.854509708357792, -3.067314333601566e-235, 21.7122505670818, 0.7666920633091205, 0.16473409763958813] 32 False []\n",
      "[292.5882509423166, -2.274587551066112e-248, 9.847962934288232, -1.4634863142132235e-247, 22.203972293359598, 2.309008947217218e-16, 0.8979082392631905] 33 False []\n",
      "[285.69025440797463, -1.2860416891033806e-258, 9.82813513807826, -4.0651126538044975e-253, 22.880604464557813, 0.004334513022784577, 0.9875087089108504] 34 False []\n",
      "[278.2600713977149, -1.7980181415961887e-259, 9.811220928616459, -7.935916160734136e-257, 23.58378693103175, 0.9999999999999997, 0.9984716459787795] 35 False []\n",
      "[270.15721231817093, -6.507699130491114e-263, 9.798941809221251, -2.940295089717103e-260, 24.31416551759209, 1.0, 0.9998130004339031] 36 False []\n",
      "[261.207062244745, -2.846856281463589e-266, 9.77748905180404, -1.3067099529075166e-263, 25.242752651648097, 1.0249932041027292, 0.9999771199360575] 37 False []\n",
      "[251.15648144948324, -5.2920863715700676e-272, 9.749088006442156, -6.441926596583634e-267, 26.385510263097448, 0.11580514094588526, 0.9999972005425624] 38 False []\n",
      "[239.64954158485742, -7.948338596040587e-273, 9.712573609178643, -3.881089638940243e-270, 27.81789510180931, 0.7658571493182263, 0.9999996574763966] 39 False []\n",
      "[226.15531491017535, -2.7880101185364285e-283, 9.672125903906865, -2.749150173642552e-273, 29.607859338348117, 3.011256926492296e-16, 0.9999999580910152] 40 False []\n",
      "[209.8610784968074, -3.954817567151086e-294, 9.606557639272562, -2.5253208063925504e-276, 32.17828861570387, -5.87726044220443e-17, 0.9999999948722863] 41 False []\n",
      "[189.373843252205, 1.0405414128732975e-284, 9.513810778511413, -3.3057240346310833e-279, 35.999005376693724, -0.02098428639465932, 1.001207496379981] 42 True []\n"
     ]
    }
   ],
   "source": [
    "env = HIV()\n",
    "obs = env.reset()\n",
    "t = 0\n",
    "reward_sum = 0\n",
    "\n",
    "while True:\n",
    "    # Take a random action\n",
    "    action = env.action_space.sample()\n",
    "    obs, reward, done, info = env.step(action, t)\n",
    "    \n",
    "    reward_sum += reward\n",
    "    if reward_sum >= 3500:\n",
    "        done = True\n",
    "        \n",
    "    print(obs, reward_sum, done, info)\n",
    "    \n",
    "    # Render the game\n",
    "\t#env.render()\n",
    "    \n",
    "    if done == True:\n",
    "        break\n",
    "        \n",
    "    t += 1\n"
   ]
  },
  {
   "cell_type": "code",
   "execution_count": null,
   "id": "b8c6d05e",
   "metadata": {},
   "outputs": [],
   "source": []
  }
 ],
 "metadata": {
  "kernelspec": {
   "display_name": "Python 3 (ipykernel)",
   "language": "python",
   "name": "python3"
  },
  "language_info": {
   "codemirror_mode": {
    "name": "ipython",
    "version": 3
   },
   "file_extension": ".py",
   "mimetype": "text/x-python",
   "name": "python",
   "nbconvert_exporter": "python",
   "pygments_lexer": "ipython3",
   "version": "3.9.13"
  }
 },
 "nbformat": 4,
 "nbformat_minor": 5
}
